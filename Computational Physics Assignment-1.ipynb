{
 "cells": [
  {
   "cell_type": "code",
   "execution_count": 10,
   "id": "c71a6fc5",
   "metadata": {},
   "outputs": [],
   "source": [
    "import numpy as np\n",
    "from sympy import Matrix\n",
    "import scipy\n",
    "import scipy.linalg\n",
    "import time"
   ]
  },
  {
   "cell_type": "markdown",
   "id": "154937fc",
   "metadata": {},
   "source": [
    "# Question 11"
   ]
  },
  {
   "cell_type": "markdown",
   "id": "7b9bd711",
   "metadata": {},
   "source": [
    "# System 1  "
   ]
  },
  {
   "cell_type": "code",
   "execution_count": 12,
   "id": "bb122a6b",
   "metadata": {},
   "outputs": [
    {
     "data": {
      "text/plain": [
       "array([ 0.03508772, -0.23684211,  0.65789474])"
      ]
     },
     "execution_count": 12,
     "metadata": {},
     "output_type": "execute_result"
    }
   ],
   "source": [
    "A1=np.array([[3,-1,1],[3,6,2],[3,3,7]])\n",
    "b1=np.array([1,0,4])\n",
    "x1=np.linalg.solve(A1,b1)\n",
    "x1"
   ]
  },
  {
   "cell_type": "markdown",
   "id": "0dff6ddc",
   "metadata": {},
   "source": [
    "# System 2"
   ]
  },
  {
   "cell_type": "code",
   "execution_count": 13,
   "id": "f1ec762f",
   "metadata": {},
   "outputs": [
    {
     "data": {
      "text/plain": [
       "array([0.99578947, 0.95789474, 0.79157895])"
      ]
     },
     "execution_count": 13,
     "metadata": {},
     "output_type": "execute_result"
    }
   ],
   "source": [
    "A2=np.array([[10,-1,0],[-1,10,-2],[0,-2,10]])\n",
    "b2=np.array([9,7,6])\n",
    "x2=np.linalg.solve(A2,b2)\n",
    "x2"
   ]
  },
  {
   "cell_type": "markdown",
   "id": "6aa47d64",
   "metadata": {},
   "source": [
    "# System 3"
   ]
  },
  {
   "cell_type": "code",
   "execution_count": 21,
   "id": "7c76fc10",
   "metadata": {},
   "outputs": [
    {
     "data": {
      "text/plain": [
       "array([-0.79764706,  2.79529412, -0.25882353, -2.25176471])"
      ]
     },
     "execution_count": 21,
     "metadata": {},
     "output_type": "execute_result"
    }
   ],
   "source": [
    "A3=np.array([[10,5,0,0],[5,10,-4,0],[0,-4,8,-1],[0,0,-1,5]])\n",
    "b3=np.array([6,25,-11,-11])\n",
    "x3=np.linalg.solve(A3,b3)\n",
    "x3"
   ]
  },
  {
   "cell_type": "markdown",
   "id": "44b7c616",
   "metadata": {},
   "source": [
    "# System 4"
   ]
  },
  {
   "cell_type": "code",
   "execution_count": 28,
   "id": "9bd8b595",
   "metadata": {
    "scrolled": true
   },
   "outputs": [
    {
     "data": {
      "text/plain": [
       "array([ 0.8       , -1.48571429,  2.        ,  1.82857143,  2.28571429])"
      ]
     },
     "execution_count": 28,
     "metadata": {},
     "output_type": "execute_result"
    }
   ],
   "source": [
    "A4=np.array([[4,1,1,0,1],[-1,-2,1,1,0],[2,1,5,-1,-1],[-1,-1,-1,4,0],[0,2,-1,1,4]])\n",
    "b4=np.array([6,6,6,6,6])\n",
    "x4=np.linalg.solve(A4,b4)\n",
    "x4"
   ]
  },
  {
   "cell_type": "markdown",
   "id": "34a19528",
   "metadata": {},
   "source": [
    "# Question 13 "
   ]
  },
  {
   "cell_type": "code",
   "execution_count": 49,
   "id": "7d0feee4",
   "metadata": {},
   "outputs": [
    {
     "data": {
      "text/latex": [
       "$\\displaystyle \\left[\\begin{matrix}3 & -1 & 1\\\\3 & 6 & 2\\\\3 & 3 & 7\\end{matrix}\\right]$"
      ],
      "text/plain": [
       "Matrix([\n",
       "[3, -1, 1],\n",
       "[3,  6, 2],\n",
       "[3,  3, 7]])"
      ]
     },
     "execution_count": 49,
     "metadata": {},
     "output_type": "execute_result"
    }
   ],
   "source": [
    "A1=np.array([[3,-1,1],[3,6,2],[3,3,7]])\n",
    "P,L,U=scipy.linalg.lu(A1)\n",
    "Matrix(A1)"
   ]
  },
  {
   "cell_type": "code",
   "execution_count": 50,
   "id": "ae8861d6",
   "metadata": {},
   "outputs": [
    {
     "data": {
      "text/latex": [
       "$\\displaystyle \\left[\\begin{matrix}1.0 & 0 & 0\\\\0 & 1.0 & 0\\\\0 & 0 & 1.0\\end{matrix}\\right]$"
      ],
      "text/plain": [
       "Matrix([\n",
       "[1.0,   0,   0],\n",
       "[  0, 1.0,   0],\n",
       "[  0,   0, 1.0]])"
      ]
     },
     "execution_count": 50,
     "metadata": {},
     "output_type": "execute_result"
    }
   ],
   "source": [
    "Matrix(P)"
   ]
  },
  {
   "cell_type": "code",
   "execution_count": 45,
   "id": "6597f60c",
   "metadata": {},
   "outputs": [
    {
     "data": {
      "text/latex": [
       "$\\displaystyle \\left[\\begin{matrix}1.0 & 0 & 0\\\\1.0 & 1.0 & 0\\\\1.0 & 0.571428571428571 & 1.0\\end{matrix}\\right]$"
      ],
      "text/plain": [
       "Matrix([\n",
       "[1.0,                 0,   0],\n",
       "[1.0,               1.0,   0],\n",
       "[1.0, 0.571428571428571, 1.0]])"
      ]
     },
     "execution_count": 45,
     "metadata": {},
     "output_type": "execute_result"
    }
   ],
   "source": [
    "Matrix(L)"
   ]
  },
  {
   "cell_type": "code",
   "execution_count": 59,
   "id": "9e2ec9ff",
   "metadata": {},
   "outputs": [
    {
     "data": {
      "text/latex": [
       "$\\displaystyle \\left[\\begin{matrix}3.0 & -1.0 & 1.0\\\\0 & 7.0 & 1.0\\\\0 & 0 & 5.42857142857143\\end{matrix}\\right]$"
      ],
      "text/plain": [
       "Matrix([\n",
       "[3.0, -1.0,              1.0],\n",
       "[  0,  7.0,              1.0],\n",
       "[  0,    0, 5.42857142857143]])"
      ]
     },
     "execution_count": 59,
     "metadata": {},
     "output_type": "execute_result"
    }
   ],
   "source": [
    "Matrix(U)"
   ]
  },
  {
   "cell_type": "code",
   "execution_count": 48,
   "id": "0b5a9685",
   "metadata": {},
   "outputs": [
    {
     "data": {
      "text/latex": [
       "$\\displaystyle \\left[\\begin{matrix}3.0 & -1.0 & 1.0\\\\3.0 & 6.0 & 2.0\\\\3.0 & 3.0 & 7.0\\end{matrix}\\right]$"
      ],
      "text/plain": [
       "Matrix([\n",
       "[3.0, -1.0, 1.0],\n",
       "[3.0,  6.0, 2.0],\n",
       "[3.0,  3.0, 7.0]])"
      ]
     },
     "execution_count": 48,
     "metadata": {},
     "output_type": "execute_result"
    }
   ],
   "source": [
    "Matrix(np.dot(L,U))"
   ]
  },
  {
   "cell_type": "markdown",
   "id": "f25b21e9",
   "metadata": {},
   "source": [
    "# Question 16"
   ]
  },
  {
   "cell_type": "markdown",
   "id": "ad7397f0",
   "metadata": {},
   "source": [
    "### Jacobi Method"
   ]
  },
  {
   "cell_type": "code",
   "execution_count": 131,
   "id": "7d120641",
   "metadata": {},
   "outputs": [
    {
     "name": "stdout",
     "output_type": "stream",
     "text": [
      "No of Iterations:  37\n",
      "[0. 0. 0. 0. 0.]\n",
      "[5.         0.5        0.05       0.5        0.00714286]\n",
      "[ 2.          0.26428571 -0.0247619  -0.19107143  0.00514286]\n",
      "[5.94702381 0.4928631  0.02124286 0.21439286 0.0085415 ]\n",
      "[ 3.57538988  0.30517228 -0.04061796 -0.30925661  0.00668254]\n",
      "[ 6.59678673e+00  4.79445550e-01 -4.28087540e-03  1.15884605e-02\n",
      "  9.22994686e-03]\n",
      "[ 4.7237393   0.33342048 -0.05164802 -0.38914401  0.00774933]\n",
      "[ 7.03724991  0.46821785 -0.02291367 -0.13601964  0.00969529]\n",
      "[ 5.56055761  0.35476907 -0.05916069 -0.44303111  0.00852353]\n",
      "[ 7.33357449  0.45908455 -0.03647902 -0.2436776   0.01001225]\n",
      "[ 6.17124084  0.37096334 -0.06424109 -0.4790885   0.00908691]\n",
      "[ 7.53116629  0.45170256 -0.04636839 -0.32231898  0.01022691]\n",
      "[ 6.61758558  0.38326522 -0.06765017 -0.50297206  0.00949749]\n",
      "[ 7.66147852  0.44576521 -0.05358876 -0.37985509  0.01037122]\n",
      "[ 6.94433665  0.39262243 -0.06991618 -0.51859108  0.00979715]\n",
      "[ 7.74622507  0.4410096  -0.05886867 -0.42201846  0.01046736]\n",
      "[ 7.18393084  0.39974866 -0.07140468 -0.52863801  0.01001621]\n",
      "[ 7.80033914  0.43721412 -0.06273583 -0.45296804  0.0105307 ]\n",
      "[ 7.3599123   0.40518225 -0.07236773 -0.53495951  0.01017659]\n",
      "[ 7.83404505  0.43419429 -0.06557295 -0.47572511  0.01057184]\n",
      "[ 7.48939317  0.40932987 -0.07297845 -0.53881583  0.01029421]\n",
      "[ 7.85430649  0.43179807 -0.06765791 -0.49248749  0.01059805]\n",
      "[ 7.58482797  0.41249924 -0.07335521 -0.5410621   0.01038062]\n",
      "[ 7.86583689  0.42990118 -0.06919279 -0.50485621  0.01061434]\n",
      "[ 7.65529442  0.41492352 -0.07357845 -0.54227443  0.0104442 ]\n",
      "[ 7.87180263  0.42840268 -0.07032471 -0.51399934  0.01062409]\n",
      "[ 7.70741891  0.41677962 -0.07370253 -0.54283771  0.01049107]\n",
      "[ 7.87431139  0.42722109 -0.07116095 -0.52077035  0.01062961]\n",
      "[ 7.74604598  0.41820197 -0.07376385 -0.54300636  0.01052569]\n",
      "[ 7.87475009  0.4262909  -0.07177988 -0.52579384  0.01063243]\n",
      "[ 7.77472312  0.41929284 -0.07378657 -0.54294634  0.01055129]\n",
      "[ 7.87401813  0.42555969 -0.07223879 -0.52952764  0.01063358]\n",
      "[ 7.79605234  0.42013015 -0.07378652 -0.54276402  0.01057028]\n",
      "[ 7.87268761  0.42498563 -0.07257969 -0.53230795  0.01063373]\n",
      "[ 7.8119454   0.42077331 -0.07377391 -0.54252602  0.01058437]\n",
      "[ 7.871113    0.42453549 -0.07283339 -0.53438202  0.01063333]\n",
      "[ 7.82380932  0.42126767 -0.07375518 -0.54227272  0.01059485]\n",
      "[ 7.8695057   0.42418287 -0.07302253 -0.53593205  0.01063264]\n"
     ]
    }
   ],
   "source": [
    "A=np.array([[0.2,0.1,1,1,0],[0.1,4,-1,1,-1],[1,-1,60,0,-2],[1,1,0,8,4],[0,-1,-2,4,700]])\n",
    "b=np.array([1,2,3,4,5])\n",
    "#X_actual=np.linalg.solve(A,b).tolist()\n",
    "X_actual=[7.859713071, 0.422926408, -0.073592239, -0.540643016, 0.010626163]\n",
    "n=5\n",
    "X=[]\n",
    "x0=np.zeros(n)\n",
    "X.append(x0)\n",
    "\n",
    "#Initialize\n",
    "xk=np.zeros(n)\n",
    "N=0\n",
    "while N <n:\n",
    "    x=np.zeros(n)\n",
    "    for i in range(n):\n",
    "        xkm1=xk\n",
    "        S=0\n",
    "        for j in range(n):\n",
    "            if (i!=j):\n",
    "                S=S-A[i][j]*xkm1[j]\n",
    "            \n",
    "        x[i]=(S + b[i])/A[i][i]\n",
    "    xk=x\n",
    "    X.append(x)\n",
    "    l=len(X)\n",
    "    N=0\n",
    "    for i in range(n):\n",
    "        if abs(X[l-1][i]-X_actual[i])<0.01:\n",
    "            N=N+1\n",
    "    \n",
    "l=len(X)\n",
    "print(\"No of Iterations: \",l-1)\n",
    "for i in range(l):\n",
    "    print(X[i])"
   ]
  },
  {
   "cell_type": "markdown",
   "id": "80457373",
   "metadata": {},
   "source": [
    "### Gauss-Seidel"
   ]
  },
  {
   "cell_type": "code",
   "execution_count": 60,
   "id": "e861464d",
   "metadata": {},
   "outputs": [
    {
     "name": "stdout",
     "output_type": "stream",
     "text": [
      "No of Iterations:  4\n",
      "[0.0, 0.0, 0.0]\n",
      "[0.3333333333333333, -0.16666666666666666, 0.5]\n",
      "[0.11111111111111112, -0.22222222222222224, 0.619047619047619]\n",
      "[0.05291005291005294, -0.2328042328042328, 0.6485260770975056]\n",
      "[0.039556563366087184, -0.23595364071554548, 0.6555987474354821]\n"
     ]
    }
   ],
   "source": [
    "#A=np.array([[0.2,0.1,1,1,0],[0.1,4,-1,1,-1],[1,-1,60,0,-2],[1,1,0,8,4],[0,-1,-2,4,700]])\n",
    "#b=np.array([1,2,3,4,5])\n",
    "#X_actual=[7.859713071, 0.422926408, -0.073592239, -0.540643016, 0.010626163]\n",
    "A=np.array([[3,-1,1],[3,6,2],[3,3,7]])\n",
    "b=np.array([1,0,4])\n",
    "X_actual=np.linalg.solve(A,b).tolist()\n",
    "n=3\n",
    "X=[]\n",
    "x0=np.zeros(n).tolist()\n",
    "X.append(x0)\n",
    "\n",
    "#Initialize\n",
    "xk=np.zeros(n).tolist()\n",
    "\n",
    "N=0\n",
    "while N<n:\n",
    "    x=np.zeros(n).tolist()\n",
    "    for i in range(n):\n",
    "        S=0\n",
    "        for j in range(n):\n",
    "            if (i!=j):\n",
    "                S=S-A[i][j]*xk[j]\n",
    "            \n",
    "        m=(S + b[i])/A[i][i]\n",
    "        xk[i]=m\n",
    "        x[i]=m\n",
    "    X.append(x)\n",
    "    l=len(X)\n",
    "    N=0\n",
    "    for i in range(n):\n",
    "        if abs(X[l-1][i]-X_actual[i])<0.01:\n",
    "            N=N+1\n",
    "    \n",
    "    \n",
    "l=len(X)\n",
    "print(\"No of Iterations: \",l-1)\n",
    "for i in range(l):\n",
    "    print(X[i])"
   ]
  },
  {
   "cell_type": "code",
   "execution_count": null,
   "id": "47f609b5",
   "metadata": {},
   "outputs": [],
   "source": []
  },
  {
   "cell_type": "markdown",
   "id": "b63a89d4",
   "metadata": {},
   "source": [
    "### Relaxation"
   ]
  },
  {
   "cell_type": "code",
   "execution_count": 3,
   "id": "446655df",
   "metadata": {
    "scrolled": false
   },
   "outputs": [
    {
     "name": "stdout",
     "output_type": "stream",
     "text": [
      "No of Iterations:  7\n",
      "[0. 0. 0. 0. 0.]\n",
      "[ 6.25        0.4296875  -0.05875651 -0.41870117  0.01247675]\n",
      "[ 7.40305583  0.40261432 -0.06813354 -0.49775864  0.00984042]\n",
      "[ 7.68442818  0.42154101 -0.07136675 -0.52326829  0.01070397]\n",
      "[ 7.78189882  0.42099463 -0.07256449 -0.53257501  0.0105493 ]\n",
      "[ 7.82352548  0.42231612 -0.07311119 -0.53686231  0.010619  ]\n",
      "[ 7.84250543  0.42258334 -0.07336146 -0.53884142  0.0106153 ]\n",
      "[ 7.85152701  0.42277371 -0.07348303 -0.53978369  0.01062286]\n"
     ]
    }
   ],
   "source": [
    "A=np.array([[0.2,0.1,1,1,0],[0.1,4,-1,1,-1],[1,-1,60,0,-2],[1,1,0,8,4],[0,-1,-2,4,700]])\n",
    "b=np.array([1,2,3,4,5])\n",
    "X_actual=[7.859713071, 0.422926408, -0.073592239, -0.540643016, 0.010626163]\n",
    "#System 1\n",
    "#A=np.array([[3,-1,1],[3,6,2],[3,3,7]])\n",
    "#b=np.array([1,0,4])\n",
    "#System 2\n",
    "#A=np.array([[10,-1,0],[-1,10,-2],[0,-2,10]])\n",
    "#b=np.array([9,7,6])\n",
    "#System 3\n",
    "#A=np.array([[10,5,0,0],[5,10,-4,0],[0,-4,8,-1],[0,0,-1,5]])\n",
    "#b=np.array([6,25,-11,-11])\n",
    "#System 4\n",
    "#A=np.array([[4,1,1,0,1],[-1,-3,1,1,0],[2,1,5,-1,-1],[-1,-1,-1,4,0],[0,2,-1,1,4]])\n",
    "#b=np.array([6,6,6,6,6])\n",
    "\n",
    "#X_actual=np.linalg.solve(A,b).tolist()\n",
    "n=5\n",
    "X=[]\n",
    "x0=np.zeros(n).tolist()\n",
    "X.append(x0)\n",
    "\n",
    "#Initialize\n",
    "xk=np.zeros(n).tolist()\n",
    "N=0\n",
    "w=1.25\n",
    "while N<n:\n",
    "    x=np.zeros(n).tolist()\n",
    "    for i in range(n):\n",
    "        S=0\n",
    "        for j in range(n):\n",
    "            if (i!=j):\n",
    "                S=S-A[i][j]*xk[j]\n",
    "            \n",
    "        m=(1-w)*xk[i] + w*(S + b[i])/A[i][i]\n",
    "        xk[i]=m\n",
    "        x[i]=m\n",
    "    X.append(x)\n",
    "    l=len(X)\n",
    "    N=0\n",
    "    for i in range(n):\n",
    "        if abs(X[l-1][i]-X_actual[i])<0.01:\n",
    "            N=N+1\n",
    "    \n",
    "l=len(X)\n",
    "print(\"No of Iterations: \",l-1)\n",
    "for i in range(l):\n",
    "    print(np.transpose(X[i]))"
   ]
  },
  {
   "cell_type": "markdown",
   "id": "da026ad1",
   "metadata": {},
   "source": [
    "### Conjugate Gradient Methods"
   ]
  },
  {
   "cell_type": "code",
   "execution_count": 33,
   "id": "a12eace2",
   "metadata": {},
   "outputs": [],
   "source": [
    "#A=np.array([[0.1,0.2],[0.2,113]])\n",
    "#b=np.array([0.3,113.2])"
   ]
  },
  {
   "cell_type": "code",
   "execution_count": 53,
   "id": "637a9a12",
   "metadata": {},
   "outputs": [
    {
     "name": "stdout",
     "output_type": "stream",
     "text": [
      "No of Iterations:  5\n",
      "[0.00300832 0.00601665 0.00902497 0.0120333  0.01504162]\n",
      "[0.04647092 0.09363862 0.12985331 0.18422967 0.00632678]\n",
      "[0.127921   0.26835779 0.05196309 0.493859   0.00484866]\n",
      "[0.3059927  0.49147673 0.05351802 0.38951203 0.00577334]\n",
      "[ 7.85971308  0.42292641 -0.07359224 -0.54064302  0.01062616]\n"
     ]
    }
   ],
   "source": [
    "A=np.array([[0.2,0.1,1,1,0],[0.1,4,-1,1,-1],[1,-1,60,0,-2],[1,1,0,8,4],[0,-1,-2,4,700]])\n",
    "b=np.array([1,2,3,4,5])\n",
    "X_actual=[7.859713071, 0.422926408, -0.073592239, -0.540643016, 0.010626163]\n",
    "n=5\n",
    "X=[]\n",
    "x0=np.zeros(n)\n",
    "mod_r=1.0\n",
    "r0=b-np.dot(A,x0)\n",
    "p0=b-np.dot(A,x0)\n",
    "N=0\n",
    "while N<n:\n",
    "    N=np.dot(r0.transpose(),r0)\n",
    "    D=np.dot(np.dot(p0.transpose(),A),p0)\n",
    "    alpha=N/D\n",
    "    x1=x0+alpha*p0\n",
    "    r1=r0-alpha*np.dot(A,p0)\n",
    "    beta=(np.linalg.norm(r1)/np.linalg.norm(r0))**2\n",
    "    p1=r1+beta*p0\n",
    "    p0=p1\n",
    "    x0=x1\n",
    "    r0=r1\n",
    "    X.append(x1)\n",
    "    l=len(X)\n",
    "    N=0\n",
    "    for i in range(n):\n",
    "        if abs(X[l-1][i]-X_actual[i])<0.01:\n",
    "            N=N+1\n",
    "\n",
    "l=len(X)\n",
    "print(\"No of Iterations: \",l)\n",
    "for i in range(l):\n",
    "    print(np.transpose(X[i]))"
   ]
  },
  {
   "cell_type": "code",
   "execution_count": 7,
   "id": "f0bfcc1e",
   "metadata": {},
   "outputs": [
    {
     "data": {
      "text/plain": [
       "113.20039752580377"
      ]
     },
     "execution_count": 7,
     "metadata": {},
     "output_type": "execute_result"
    }
   ],
   "source": [
    "np.linalg.norm(b)"
   ]
  },
  {
   "cell_type": "code",
   "execution_count": 12,
   "id": "ad05bd05",
   "metadata": {},
   "outputs": [
    {
     "data": {
      "text/plain": [
       "113.20039752580377"
      ]
     },
     "execution_count": 12,
     "metadata": {},
     "output_type": "execute_result"
    }
   ],
   "source": [
    "np.sqrt(np.dot(b.transpose(),b))"
   ]
  },
  {
   "cell_type": "markdown",
   "id": "e187befd",
   "metadata": {},
   "source": [
    "# Question 17"
   ]
  },
  {
   "cell_type": "markdown",
   "id": "0ee451aa",
   "metadata": {},
   "source": [
    "### QR decomposition"
   ]
  },
  {
   "cell_type": "code",
   "execution_count": 79,
   "id": "29154224",
   "metadata": {},
   "outputs": [
    {
     "data": {
      "text/latex": [
       "$\\displaystyle \\left[\\begin{matrix}8.99999992942521 & -0.000594031912250446\\\\-0.00059403191225076 & 4.00000007057478\\end{matrix}\\right]$"
      ],
      "text/plain": [
       "Matrix([\n",
       "[    8.99999992942521, -0.000594031912250446],\n",
       "[-0.00059403191225076,      4.00000007057478]])"
      ]
     },
     "execution_count": 79,
     "metadata": {},
     "output_type": "execute_result"
    }
   ],
   "source": [
    "A=np.array([[5,-2],[-2,8]])\n",
    "V=np.array([[1,0],[0,1]])\n",
    "S=0\n",
    "n=2\n",
    "N=0\n",
    "while N<n*n-n:\n",
    "    Q,R=np.linalg.qr(A)\n",
    "    A=np.dot(R,Q)\n",
    "    for i in range(n):\n",
    "        for j in range(n):\n",
    "            if (i!=j):\n",
    "                if (abs(A[i][j])<0.001) :\n",
    "                    N=N+1\n",
    "Matrix(A)"
   ]
  },
  {
   "cell_type": "code",
   "execution_count": 78,
   "id": "cf46c94b",
   "metadata": {},
   "outputs": [
    {
     "name": "stdout",
     "output_type": "stream",
     "text": [
      "Eigenvalues of A using QR decomposition are:\n",
      "8.999999929425208 & 4.000000070574784 .\n"
     ]
    }
   ],
   "source": [
    "print(\"Eigenvalues of A using QR decomposition are:\")\n",
    "print(A[0][0],\"&\",A[1][1],\".\")"
   ]
  },
  {
   "cell_type": "code",
   "execution_count": 74,
   "id": "44bcd79f",
   "metadata": {},
   "outputs": [
    {
     "data": {
      "text/plain": [
       "array([4., 9.])"
      ]
     },
     "execution_count": 74,
     "metadata": {},
     "output_type": "execute_result"
    }
   ],
   "source": [
    "A=np.array([[5,-2],[-2,8]])\n",
    "Eigen_value, Eigen_vector=np.linalg.eigh(A)\n",
    "Eigen_value"
   ]
  },
  {
   "cell_type": "markdown",
   "id": "b55bbb8d",
   "metadata": {},
   "source": [
    "# Question 18"
   ]
  },
  {
   "cell_type": "markdown",
   "id": "aa278eb8",
   "metadata": {},
   "source": [
    "### Power Method"
   ]
  },
  {
   "cell_type": "code",
   "execution_count": 83,
   "id": "bb22bbfc",
   "metadata": {},
   "outputs": [
    {
     "data": {
      "text/plain": [
       "13"
      ]
     },
     "execution_count": 83,
     "metadata": {},
     "output_type": "execute_result"
    }
   ],
   "source": [
    "b=np.array([2,3])\n",
    "np.dot(b,b)"
   ]
  },
  {
   "cell_type": "code",
   "execution_count": 130,
   "id": "8f514f45",
   "metadata": {},
   "outputs": [
    {
     "name": "stdout",
     "output_type": "stream",
     "text": [
      "Dominant Eigenvalue: 3.414141414141414\n",
      "Eigenvector: [ 0.5        -0.70710059  0.5       ]\n"
     ]
    },
    {
     "data": {
      "text/plain": [
       "array([0.58578644, 2.        , 3.41421356])"
      ]
     },
     "execution_count": 130,
     "metadata": {},
     "output_type": "execute_result"
    }
   ],
   "source": [
    "A=np.array([[2,-1,0],[-1,2,-1],[0,-1,2]])\n",
    "x=np.array([1,1,1])\n",
    "y=np.array([1,0,0])\n",
    "D=np.dot(x.transpose(),y)\n",
    "del_lamda=1\n",
    "lamda0=0\n",
    "I=np.array([[1,0,0],[0,1,0],[0,0,1]])\n",
    "Am=np.dot(I,x)\n",
    "while del_lamda >0.001:\n",
    "    Am=np.dot(A,Am)\n",
    "    lamda1=np.dot(Am.transpose(),y)/D\n",
    "    del_lamda=np.abs(lamda1-lamda0)\n",
    "    lamda0= lamda1\n",
    "    D=np.dot(Am.transpose(),y)\n",
    "print(\"Dominant Eigenvalue:\",lamda0)\n",
    "Scaling_factor=Am[0]/0.5\n",
    "print(\"Eigenvector:\",Am/Scaling_factor)"
   ]
  },
  {
   "cell_type": "code",
   "execution_count": 120,
   "id": "4c9e805d",
   "metadata": {},
   "outputs": [
    {
     "data": {
      "text/plain": [
       "(3.414213562373095, array([ 0.5       ,  0.70710678, -0.5       ]))"
      ]
     },
     "execution_count": 120,
     "metadata": {},
     "output_type": "execute_result"
    }
   ],
   "source": [
    "A=np.array([[2,-1,0],[-1,2,-1],[0,-1,2]])\n",
    "Eigen_value, Eigen_vector=np.linalg.eigh(A)\n",
    "Eigen_value[2],Eigen_vector[2]"
   ]
  },
  {
   "cell_type": "markdown",
   "id": "3892b355",
   "metadata": {},
   "source": [
    "# Question 19"
   ]
  },
  {
   "cell_type": "markdown",
   "id": "3bcf5f75",
   "metadata": {},
   "source": [
    "### Singular Value Decomposition"
   ]
  },
  {
   "cell_type": "markdown",
   "id": "650ac42e",
   "metadata": {},
   "source": [
    "#### System 1"
   ]
  },
  {
   "cell_type": "code",
   "execution_count": 228,
   "id": "6f741966",
   "metadata": {},
   "outputs": [],
   "source": [
    "A=np.array([[2,1],[1,0]])\n",
    "start_time=time.time()\n",
    "U,S,V_T=np.linalg.svd(A)\n",
    "svd_time=time.time()-start_time"
   ]
  },
  {
   "cell_type": "code",
   "execution_count": 229,
   "id": "25e809e4",
   "metadata": {},
   "outputs": [
    {
     "data": {
      "text/plain": [
       "0.0010027885437011719"
      ]
     },
     "execution_count": 229,
     "metadata": {},
     "output_type": "execute_result"
    }
   ],
   "source": [
    "svd_time"
   ]
  },
  {
   "cell_type": "code",
   "execution_count": 230,
   "id": "b42c31f0",
   "metadata": {},
   "outputs": [
    {
     "data": {
      "text/latex": [
       "$\\displaystyle \\left[\\begin{matrix}-0.923879532511287 & -0.38268343236509\\\\-0.38268343236509 & 0.923879532511287\\end{matrix}\\right]$"
      ],
      "text/plain": [
       "Matrix([\n",
       "[-0.923879532511287, -0.38268343236509],\n",
       "[ -0.38268343236509, 0.923879532511287]])"
      ]
     },
     "execution_count": 230,
     "metadata": {},
     "output_type": "execute_result"
    }
   ],
   "source": [
    "Matrix(U)"
   ]
  },
  {
   "cell_type": "code",
   "execution_count": 231,
   "id": "70a8a01c",
   "metadata": {},
   "outputs": [
    {
     "data": {
      "text/latex": [
       "$\\displaystyle \\left[\\begin{matrix}2.4142135623731 & 0\\\\0 & 0.414213562373095\\end{matrix}\\right]$"
      ],
      "text/plain": [
       "Matrix([\n",
       "[2.4142135623731,                 0],\n",
       "[              0, 0.414213562373095]])"
      ]
     },
     "execution_count": 231,
     "metadata": {},
     "output_type": "execute_result"
    }
   ],
   "source": [
    "def fill_up_with_zeros(S,m,n):\n",
    "    S_extended=np.zeros((m,n))\n",
    "    for i in range(len(S)):\n",
    "        S_extended[i][i]=S[i]\n",
    "    return S_extended\n",
    "S= fill_up_with_zeros(S,2,2)\n",
    "Matrix(S)"
   ]
  },
  {
   "cell_type": "code",
   "execution_count": 225,
   "id": "b0b86049",
   "metadata": {},
   "outputs": [
    {
     "data": {
      "text/latex": [
       "$\\displaystyle \\left[\\begin{matrix}-0.923879532511287 & -0.38268343236509\\\\0.38268343236509 & -0.923879532511287\\end{matrix}\\right]$"
      ],
      "text/plain": [
       "Matrix([\n",
       "[-0.923879532511287,  -0.38268343236509],\n",
       "[  0.38268343236509, -0.923879532511287]])"
      ]
     },
     "execution_count": 225,
     "metadata": {},
     "output_type": "execute_result"
    }
   ],
   "source": [
    "Matrix(V_T)"
   ]
  },
  {
   "cell_type": "code",
   "execution_count": 232,
   "id": "be54d618",
   "metadata": {},
   "outputs": [
    {
     "data": {
      "text/latex": [
       "$\\displaystyle \\left[\\begin{matrix}2.0 & 1.0\\\\1.0 & -3.81016887278921 \\cdot 10^{-17}\\end{matrix}\\right]$"
      ],
      "text/plain": [
       "Matrix([\n",
       "[2.0,                   1.0],\n",
       "[1.0, -3.81016887278921e-17]])"
      ]
     },
     "execution_count": 232,
     "metadata": {},
     "output_type": "execute_result"
    }
   ],
   "source": [
    "Matrix(np.dot(np.dot(U,S),V_T))"
   ]
  },
  {
   "cell_type": "markdown",
   "id": "79f2d672",
   "metadata": {},
   "source": [
    "#### System 2"
   ]
  },
  {
   "cell_type": "code",
   "execution_count": 235,
   "id": "65d92491",
   "metadata": {},
   "outputs": [],
   "source": [
    "A=np.array([[2,1],[1,0],[0,1]])\n",
    "start_time=time.time()\n",
    "U,S,V_T=np.linalg.svd(A)\n",
    "svd_time=time.time()-start_time"
   ]
  },
  {
   "cell_type": "code",
   "execution_count": 236,
   "id": "9e18ed0c",
   "metadata": {},
   "outputs": [
    {
     "data": {
      "text/plain": [
       "0.0009996891021728516"
      ]
     },
     "execution_count": 236,
     "metadata": {},
     "output_type": "execute_result"
    }
   ],
   "source": [
    "svd_time"
   ]
  },
  {
   "cell_type": "code",
   "execution_count": 237,
   "id": "21103e11",
   "metadata": {},
   "outputs": [
    {
     "data": {
      "text/latex": [
       "$\\displaystyle \\left[\\begin{matrix}-0.912870929175277 & 4.80183453304857 \\cdot 10^{-17} & -0.408248290463863\\\\-0.365148371670111 & -0.447213595499958 & 0.816496580927726\\\\-0.182574185835055 & 0.894427190999916 & 0.408248290463863\\end{matrix}\\right]$"
      ],
      "text/plain": [
       "Matrix([\n",
       "[-0.912870929175277, 4.80183453304857e-17, -0.408248290463863],\n",
       "[-0.365148371670111,   -0.447213595499958,  0.816496580927726],\n",
       "[-0.182574185835055,    0.894427190999916,  0.408248290463863]])"
      ]
     },
     "execution_count": 237,
     "metadata": {},
     "output_type": "execute_result"
    }
   ],
   "source": [
    "Matrix(U)"
   ]
  },
  {
   "cell_type": "code",
   "execution_count": 238,
   "id": "4859729f",
   "metadata": {},
   "outputs": [
    {
     "data": {
      "text/latex": [
       "$\\displaystyle \\left[\\begin{matrix}2.44948974278318 & 0\\\\0 & 1.0\\\\0 & 0\\end{matrix}\\right]$"
      ],
      "text/plain": [
       "Matrix([\n",
       "[2.44948974278318,   0],\n",
       "[               0, 1.0],\n",
       "[               0,   0]])"
      ]
     },
     "execution_count": 238,
     "metadata": {},
     "output_type": "execute_result"
    }
   ],
   "source": [
    "S=fill_up_with_zeros(S,3,2)\n",
    "Matrix(S)"
   ]
  },
  {
   "cell_type": "code",
   "execution_count": 239,
   "id": "1c7dccd9",
   "metadata": {},
   "outputs": [
    {
     "data": {
      "text/latex": [
       "$\\displaystyle \\left[\\begin{matrix}-0.894427190999916 & -0.447213595499958\\\\-0.447213595499958 & 0.894427190999916\\end{matrix}\\right]$"
      ],
      "text/plain": [
       "Matrix([\n",
       "[-0.894427190999916, -0.447213595499958],\n",
       "[-0.447213595499958,  0.894427190999916]])"
      ]
     },
     "execution_count": 239,
     "metadata": {},
     "output_type": "execute_result"
    }
   ],
   "source": [
    "Matrix(V_T)"
   ]
  },
  {
   "cell_type": "code",
   "execution_count": 240,
   "id": "5f5b28dd",
   "metadata": {},
   "outputs": [
    {
     "data": {
      "text/latex": [
       "$\\displaystyle \\left[\\begin{matrix}2.0 & 1.0\\\\1.0 & -6.81060746346194 \\cdot 10^{-17}\\\\-1.23617225865877 \\cdot 10^{-16} & 1.0\\end{matrix}\\right]$"
      ],
      "text/plain": [
       "Matrix([\n",
       "[                  2.0,                   1.0],\n",
       "[                  1.0, -6.81060746346194e-17],\n",
       "[-1.23617225865877e-16,                   1.0]])"
      ]
     },
     "execution_count": 240,
     "metadata": {},
     "output_type": "execute_result"
    }
   ],
   "source": [
    "Matrix(np.dot(np.dot(U,S),V_T))"
   ]
  },
  {
   "cell_type": "markdown",
   "id": "a6d4d2ce",
   "metadata": {},
   "source": [
    "#### System 3"
   ]
  },
  {
   "cell_type": "code",
   "execution_count": 245,
   "id": "e1ed3f02",
   "metadata": {},
   "outputs": [],
   "source": [
    "A=np.array([[2,1],[-1,1],[1,1],[2,-1]])\n",
    "start_time=time.time()\n",
    "U,S,V_T=np.linalg.svd(A)\n",
    "svd_time=time.time()-start_time"
   ]
  },
  {
   "cell_type": "code",
   "execution_count": 246,
   "id": "5ab1cbf4",
   "metadata": {},
   "outputs": [
    {
     "data": {
      "text/plain": [
       "0.0005145072937011719"
      ]
     },
     "execution_count": 246,
     "metadata": {},
     "output_type": "execute_result"
    }
   ],
   "source": [
    "svd_time"
   ]
  },
  {
   "cell_type": "code",
   "execution_count": 247,
   "id": "b066be1b",
   "metadata": {},
   "outputs": [
    {
     "data": {
      "text/latex": [
       "$\\displaystyle \\left[\\begin{matrix}-0.632455532033676 & -0.5 & -0.522293212310753 & -0.277866515388441\\\\0.316227766016838 & -0.5 & -0.301968572864907 & 0.747539283918866\\\\-0.316227766016838 & -0.5 & 0.797047140702639 & 0.121308925878299\\\\-0.632455532033676 & 0.5 & -0.0272146444730205 & 0.590981694408725\\end{matrix}\\right]$"
      ],
      "text/plain": [
       "Matrix([\n",
       "[-0.632455532033676, -0.5,  -0.522293212310753, -0.277866515388441],\n",
       "[ 0.316227766016838, -0.5,  -0.301968572864907,  0.747539283918866],\n",
       "[-0.316227766016838, -0.5,   0.797047140702639,  0.121308925878299],\n",
       "[-0.632455532033676,  0.5, -0.0272146444730205,  0.590981694408725]])"
      ]
     },
     "execution_count": 247,
     "metadata": {},
     "output_type": "execute_result"
    }
   ],
   "source": [
    "Matrix(U)"
   ]
  },
  {
   "cell_type": "code",
   "execution_count": 248,
   "id": "a73c1f02",
   "metadata": {},
   "outputs": [
    {
     "data": {
      "text/latex": [
       "$\\displaystyle \\left[\\begin{matrix}3.16227766016838 & 0\\\\0 & 2.0\\\\0 & 0\\\\0 & 0\\end{matrix}\\right]$"
      ],
      "text/plain": [
       "Matrix([\n",
       "[3.16227766016838,   0],\n",
       "[               0, 2.0],\n",
       "[               0,   0],\n",
       "[               0,   0]])"
      ]
     },
     "execution_count": 248,
     "metadata": {},
     "output_type": "execute_result"
    }
   ],
   "source": [
    "S=fill_up_with_zeros(S,4,2)\n",
    "Matrix(S)"
   ]
  },
  {
   "cell_type": "code",
   "execution_count": 249,
   "id": "b6f874ea",
   "metadata": {},
   "outputs": [
    {
     "data": {
      "text/latex": [
       "$\\displaystyle \\left[\\begin{matrix}-1.0 & 0\\\\0 & -1.0\\end{matrix}\\right]$"
      ],
      "text/plain": [
       "Matrix([\n",
       "[-1.0,    0],\n",
       "[   0, -1.0]])"
      ]
     },
     "execution_count": 249,
     "metadata": {},
     "output_type": "execute_result"
    }
   ],
   "source": [
    "Matrix(V_T)"
   ]
  },
  {
   "cell_type": "code",
   "execution_count": 250,
   "id": "7e50f5b9",
   "metadata": {},
   "outputs": [
    {
     "data": {
      "text/latex": [
       "$\\displaystyle \\left[\\begin{matrix}2.0 & 1.0\\\\-1.0 & 1.0\\\\1.0 & 1.0\\\\2.0 & -1.0\\end{matrix}\\right]$"
      ],
      "text/plain": [
       "Matrix([\n",
       "[ 2.0,  1.0],\n",
       "[-1.0,  1.0],\n",
       "[ 1.0,  1.0],\n",
       "[ 2.0, -1.0]])"
      ]
     },
     "execution_count": 250,
     "metadata": {},
     "output_type": "execute_result"
    }
   ],
   "source": [
    "Matrix(np.dot(np.dot(U,S),V_T))"
   ]
  },
  {
   "cell_type": "markdown",
   "id": "d6e8c674",
   "metadata": {},
   "source": [
    "#### System 4"
   ]
  },
  {
   "cell_type": "code",
   "execution_count": 251,
   "id": "21e0363d",
   "metadata": {},
   "outputs": [],
   "source": [
    "A=np.array([[1,1,0],[-1,0,1],[0,1,-1],[1,1,-1]])\n",
    "start_time=time.time()\n",
    "U,S,V_T=np.linalg.svd(A)\n",
    "svd_time=time.time()-start_time"
   ]
  },
  {
   "cell_type": "code",
   "execution_count": 252,
   "id": "851e8f2b",
   "metadata": {},
   "outputs": [
    {
     "data": {
      "text/plain": [
       "0.00135040283203125"
      ]
     },
     "execution_count": 252,
     "metadata": {},
     "output_type": "execute_result"
    }
   ],
   "source": [
    "svd_time"
   ]
  },
  {
   "cell_type": "code",
   "execution_count": 253,
   "id": "7fbfc8ca",
   "metadata": {},
   "outputs": [
    {
     "data": {
      "text/latex": [
       "$\\displaystyle \\left[\\begin{matrix}-0.436435780471985 & -0.408248290463863 & 0.707106781186547 & -0.377964473009227\\\\0.436435780471985 & 0.408248290463863 & 0.707106781186548 & 0.377964473009227\\\\-0.436435780471985 & 0.816496580927726 & -1.77001981877615 \\cdot 10^{-16} & -0.377964473009227\\\\-0.654653670707977 & -7.49205180133081 \\cdot 10^{-17} & -1.19230075411084 \\cdot 10^{-16} & 0.755928946018454\\end{matrix}\\right]$"
      ],
      "text/plain": [
       "Matrix([\n",
       "[-0.436435780471985,    -0.408248290463863,     0.707106781186547, -0.377964473009227],\n",
       "[ 0.436435780471985,     0.408248290463863,     0.707106781186548,  0.377964473009227],\n",
       "[-0.436435780471985,     0.816496580927726, -1.77001981877615e-16, -0.377964473009227],\n",
       "[-0.654653670707977, -7.49205180133081e-17, -1.19230075411084e-16,  0.755928946018454]])"
      ]
     },
     "execution_count": 253,
     "metadata": {},
     "output_type": "execute_result"
    }
   ],
   "source": [
    "Matrix(U)"
   ]
  },
  {
   "cell_type": "code",
   "execution_count": 256,
   "id": "ad2fc21e",
   "metadata": {},
   "outputs": [
    {
     "data": {
      "text/latex": [
       "$\\displaystyle \\left[\\begin{matrix}2.64575131106459 & 0 & 0\\\\0 & 1.0 & 0\\\\0 & 0 & 1.0\\\\0 & 0 & 0\\end{matrix}\\right]$"
      ],
      "text/plain": [
       "Matrix([\n",
       "[2.64575131106459,   0,   0],\n",
       "[               0, 1.0,   0],\n",
       "[               0,   0, 1.0],\n",
       "[               0,   0,   0]])"
      ]
     },
     "execution_count": 256,
     "metadata": {},
     "output_type": "execute_result"
    }
   ],
   "source": [
    "S=fill_up_with_zeros(S,4,3)\n",
    "Matrix(S)"
   ]
  },
  {
   "cell_type": "code",
   "execution_count": 257,
   "id": "3b68cc8b",
   "metadata": {},
   "outputs": [
    {
     "data": {
      "text/latex": [
       "$\\displaystyle \\left[\\begin{matrix}-0.577350269189626 & -0.577350269189626 & 0.577350269189626\\\\-0.816496580927726 & 0.408248290463863 & -0.408248290463863\\\\0 & 0.707106781186547 & 0.707106781186548\\end{matrix}\\right]$"
      ],
      "text/plain": [
       "Matrix([\n",
       "[-0.577350269189626, -0.577350269189626,  0.577350269189626],\n",
       "[-0.816496580927726,  0.408248290463863, -0.408248290463863],\n",
       "[                 0,  0.707106781186547,  0.707106781186548]])"
      ]
     },
     "execution_count": 257,
     "metadata": {},
     "output_type": "execute_result"
    }
   ],
   "source": [
    "Matrix(V_T)"
   ]
  },
  {
   "cell_type": "code",
   "execution_count": 258,
   "id": "6e6d2055",
   "metadata": {},
   "outputs": [
    {
     "data": {
      "text/latex": [
       "$\\displaystyle \\left[\\begin{matrix}1.0 & 1.0 & 1.33393445633273 \\cdot 10^{-16}\\\\-1.0 & -1.99673461754274 \\cdot 10^{-16} & 1.0\\\\1.61842956344201 \\cdot 10^{-16} & 1.0 & -1.0\\\\1.0 & 1.0 & -1.0\\end{matrix}\\right]$"
      ],
      "text/plain": [
       "Matrix([\n",
       "[                 1.0,                   1.0, 1.33393445633273e-16],\n",
       "[                -1.0, -1.99673461754274e-16,                  1.0],\n",
       "[1.61842956344201e-16,                   1.0,                 -1.0],\n",
       "[                 1.0,                   1.0,                 -1.0]])"
      ]
     },
     "execution_count": 258,
     "metadata": {},
     "output_type": "execute_result"
    }
   ],
   "source": [
    "Matrix(np.dot(np.dot(U,S),V_T))"
   ]
  },
  {
   "cell_type": "markdown",
   "id": "f5cb5ed5",
   "metadata": {},
   "source": [
    "#### System 5"
   ]
  },
  {
   "cell_type": "code",
   "execution_count": 259,
   "id": "4bd04886",
   "metadata": {},
   "outputs": [],
   "source": [
    "A=np.array([[0,1,1],[0,1,0],[1,1,0],[0,1,0],[1,0,1]])\n",
    "start_time=time.time()\n",
    "U,S,V_T=np.linalg.svd(A)\n",
    "svd_time=time.time()-start_time"
   ]
  },
  {
   "cell_type": "code",
   "execution_count": 260,
   "id": "5da63262",
   "metadata": {},
   "outputs": [
    {
     "data": {
      "text/plain": [
       "0.004439115524291992"
      ]
     },
     "execution_count": 260,
     "metadata": {},
     "output_type": "execute_result"
    }
   ],
   "source": [
    "svd_time"
   ]
  },
  {
   "cell_type": "code",
   "execution_count": 262,
   "id": "ce3aeb61",
   "metadata": {},
   "outputs": [
    {
     "data": {
      "text/latex": [
       "$\\displaystyle \\left[\\begin{matrix}-0.547722557505166 & -5.49521712695283 \\cdot 10^{-16} & -0.707106781186548 & -0.132058462551819 & -0.42727106439408\\\\-0.365148371670111 & -0.408248290463863 & 5.43210214943126 \\cdot 10^{-17} & -0.543516408333063 & 0.63607382737598\\\\-0.547722557505166 & 4.24980527316951 \\cdot 10^{-16} & 0.707106781186548 & -0.132058462551819 & -0.42727106439408\\\\-0.365148371670111 & -0.408248290463863 & 4.25921500823187 \\cdot 10^{-17} & 0.807633333436701 & 0.21846830141218\\\\-0.365148371670111 & 0.816496580927726 & -5.15968331031669 \\cdot 10^{-16} & 0.132058462551819 & 0.42727106439408\\end{matrix}\\right]$"
      ],
      "text/plain": [
       "Matrix([\n",
       "[-0.547722557505166, -5.49521712695283e-16,    -0.707106781186548, -0.132058462551819, -0.42727106439408],\n",
       "[-0.365148371670111,    -0.408248290463863,  5.43210214943126e-17, -0.543516408333063,  0.63607382737598],\n",
       "[-0.547722557505166,  4.24980527316951e-16,     0.707106781186548, -0.132058462551819, -0.42727106439408],\n",
       "[-0.365148371670111,    -0.408248290463863,  4.25921500823187e-17,  0.807633333436701,  0.21846830141218],\n",
       "[-0.365148371670111,     0.816496580927726, -5.15968331031669e-16,  0.132058462551819,  0.42727106439408]])"
      ]
     },
     "execution_count": 262,
     "metadata": {},
     "output_type": "execute_result"
    }
   ],
   "source": [
    "Matrix(U)"
   ]
  },
  {
   "cell_type": "code",
   "execution_count": 261,
   "id": "e2dec783",
   "metadata": {},
   "outputs": [
    {
     "data": {
      "text/latex": [
       "$\\displaystyle \\left[\\begin{matrix}2.23606797749979 & 0 & 0\\\\0 & 1.4142135623731 & 0\\\\0 & 0 & 1.0\\\\0 & 0 & 0\\\\0 & 0 & 0\\end{matrix}\\right]$"
      ],
      "text/plain": [
       "Matrix([\n",
       "[2.23606797749979,               0,   0],\n",
       "[               0, 1.4142135623731,   0],\n",
       "[               0,               0, 1.0],\n",
       "[               0,               0,   0],\n",
       "[               0,               0,   0]])"
      ]
     },
     "execution_count": 261,
     "metadata": {},
     "output_type": "execute_result"
    }
   ],
   "source": [
    "S=fill_up_with_zeros(S,5,3)\n",
    "Matrix(S)"
   ]
  },
  {
   "cell_type": "code",
   "execution_count": 263,
   "id": "870bd2f4",
   "metadata": {},
   "outputs": [
    {
     "data": {
      "text/latex": [
       "$\\displaystyle \\left[\\begin{matrix}-0.408248290463863 & -0.816496580927726 & -0.408248290463863\\\\0.577350269189626 & -0.577350269189626 & 0.577350269189625\\\\0.707106781186547 & 3.86299829349208 \\cdot 10^{-17} & -0.707106781186548\\end{matrix}\\right]$"
      ],
      "text/plain": [
       "Matrix([\n",
       "[-0.408248290463863,   -0.816496580927726, -0.408248290463863],\n",
       "[ 0.577350269189626,   -0.577350269189626,  0.577350269189625],\n",
       "[ 0.707106781186547, 3.86299829349208e-17, -0.707106781186548]])"
      ]
     },
     "execution_count": 263,
     "metadata": {},
     "output_type": "execute_result"
    }
   ],
   "source": [
    "Matrix(V_T)"
   ]
  },
  {
   "cell_type": "code",
   "execution_count": 264,
   "id": "f9f21d4d",
   "metadata": {},
   "outputs": [
    {
     "data": {
      "text/latex": [
       "$\\displaystyle \\left[\\begin{matrix}-3.32444578855373 \\cdot 10^{-16} & 1.0 & 0.999999999999999\\\\-2.06450527071475 \\cdot 10^{-16} & 1.0 & -1.67647666288741 \\cdot 10^{-16}\\\\1.0 & 0.999999999999999 & -3.03871955379186 \\cdot 10^{-16}\\\\-2.14744091582561 \\cdot 10^{-16} & 1.0 & -1.59354101777655 \\cdot 10^{-16}\\\\1.0 & -3.44349857073541 \\cdot 10^{-16} & 1.0\\end{matrix}\\right]$"
      ],
      "text/plain": [
       "Matrix([\n",
       "[-3.32444578855373e-16,                   1.0,     0.999999999999999],\n",
       "[-2.06450527071475e-16,                   1.0, -1.67647666288741e-16],\n",
       "[                  1.0,     0.999999999999999, -3.03871955379186e-16],\n",
       "[-2.14744091582561e-16,                   1.0, -1.59354101777655e-16],\n",
       "[                  1.0, -3.44349857073541e-16,                   1.0]])"
      ]
     },
     "execution_count": 264,
     "metadata": {},
     "output_type": "execute_result"
    }
   ],
   "source": [
    "Matrix(np.dot(np.dot(U,S),V_T))"
   ]
  },
  {
   "cell_type": "markdown",
   "id": "af925d9c",
   "metadata": {},
   "source": [
    "# Question 9"
   ]
  },
  {
   "cell_type": "markdown",
   "id": "9f05f875",
   "metadata": {},
   "source": [
    "##### Jacobi method under L_inf norm"
   ]
  },
  {
   "cell_type": "code",
   "execution_count": 64,
   "id": "8c8fffb7",
   "metadata": {},
   "outputs": [
    {
     "name": "stdout",
     "output_type": "stream",
     "text": [
      "No of Iterations:  10\n",
      "x 0 : [0. 0. 0.]\n",
      "x 1 : [0.33333333 0.         0.57142857]\n",
      "x 2 : [ 0.14285714 -0.35714286  0.42857143]\n",
      "x 3 : [ 0.07142857 -0.21428571  0.66326531]\n",
      "x 4 : [ 0.04081633 -0.25680272  0.63265306]\n",
      "x 5 : [ 0.03684807 -0.23129252  0.66399417]\n",
      "x 6 : [ 0.03490444 -0.23975543  0.6547619 ]\n",
      "x 7 : [ 0.03516089 -0.23570619  0.65922185]\n",
      "x 8 : [ 0.03502399 -0.23732106  0.65737656]\n",
      "x 9 : [ 0.03510079 -0.23663751  0.65812732]\n",
      "x 10 : [ 0.03507839 -0.23692617  0.65780145]\n"
     ]
    },
    {
     "name": "stderr",
     "output_type": "stream",
     "text": [
      "C:\\Users\\HP\\AppData\\Local\\Temp/ipykernel_23316/649561500.py:27: RuntimeWarning: divide by zero encountered in double_scalars\n",
      "  SS=abs((s1-s2)*100/s2)\n"
     ]
    }
   ],
   "source": [
    "#System 1\n",
    "A=np.array([[3,-1,1],[3,6,2],[3,3,7]])\n",
    "b=np.array([1,0,4])\n",
    "n=3\n",
    "X=[]\n",
    "x0=np.zeros(n)\n",
    "X.append(x0)\n",
    "#Initialize\n",
    "xk=np.zeros(n)\n",
    "SS=1.0\n",
    "while SS>0.1:\n",
    "    x=np.zeros(n)\n",
    "    for i in range(n):\n",
    "        xkm1=xk\n",
    "        S=0\n",
    "        for j in range(n):\n",
    "            if (i!=j):\n",
    "                S=S-A[i][j]*xkm1[j]\n",
    "            \n",
    "        x[i]=(S + b[i])/A[i][i]\n",
    "    xk=x\n",
    "    X.append(x)\n",
    "    l=len(X)\n",
    "    if l>1:\n",
    "        s1=larg(X[l-1])\n",
    "        s2=larg(X[l-2])\n",
    "        SS=abs((s1-s2)*100/s2)\n",
    "\n",
    "l=len(X)\n",
    "print(\"No of Iterations: \",l-1)\n",
    "for i in range(l):\n",
    "    print(\"x\",i,\":\",X[i])"
   ]
  },
  {
   "cell_type": "markdown",
   "id": "b7fcdfe7",
   "metadata": {},
   "source": [
    "# Question 10"
   ]
  },
  {
   "cell_type": "markdown",
   "id": "b19607ac",
   "metadata": {},
   "source": [
    "##### Gauss-Seidel method under L_inf norm"
   ]
  },
  {
   "cell_type": "code",
   "execution_count": 65,
   "id": "405ffa97",
   "metadata": {},
   "outputs": [
    {
     "name": "stdout",
     "output_type": "stream",
     "text": [
      "inf\n",
      "23.809523809523792\n",
      "4.761904761904774\n",
      "1.0905760905760855\n",
      "0.26548707270112515\n",
      "0.0638446868108856\n",
      "No of Iterations:  6\n",
      "x 0 : [0.0, 0.0, 0.0]\n",
      "x 1 : [0.3333333333333333, -0.16666666666666666, 0.5]\n",
      "x 2 : [0.11111111111111112, -0.22222222222222224, 0.619047619047619]\n",
      "x 3 : [0.05291005291005294, -0.2328042328042328, 0.6485260770975056]\n",
      "x 4 : [0.039556563366087184, -0.23595364071554548, 0.6555987474354821]\n",
      "x 5 : [0.03614920394965748, -0.2366075177866561, 0.6573392773587138]\n",
      "x 6 : [0.0353510682848767, -0.23678862659534294, 0.6577589535616284]\n"
     ]
    },
    {
     "name": "stderr",
     "output_type": "stream",
     "text": [
      "C:\\Users\\HP\\AppData\\Local\\Temp/ipykernel_23316/1673056587.py:29: RuntimeWarning: divide by zero encountered in double_scalars\n",
      "  SS=abs((s1-s2)*100/s2)\n"
     ]
    }
   ],
   "source": [
    "#System 1\n",
    "A=np.array([[3,-1,1],[3,6,2],[3,3,7]])\n",
    "b=np.array([1,0,4])\n",
    "\n",
    "n=3\n",
    "X=[]\n",
    "x0=np.zeros(n).tolist()\n",
    "X.append(x0)\n",
    "\n",
    "#Initialize\n",
    "xk=np.zeros(n).tolist()\n",
    "SS=1.0\n",
    "while SS>0.1:\n",
    "    x=np.zeros(n).tolist()\n",
    "    for i in range(n):\n",
    "        S=0\n",
    "        for j in range(n):\n",
    "            if (i!=j):\n",
    "                S=S-A[i][j]*xk[j]\n",
    "            \n",
    "        m=(S + b[i])/A[i][i]\n",
    "        xk[i]=m\n",
    "        x[i]=m\n",
    "    X.append(x)\n",
    "    l=len(X)\n",
    "    if l>1:\n",
    "        s1=larg(X[l-1])\n",
    "        s2=larg(X[l-2])\n",
    "        SS=abs((s1-s2)*100/s2)\n",
    "        print(SS)\n",
    "    \n",
    "    \n",
    "l=len(X)\n",
    "print(\"No of Iterations: \",l-1)\n",
    "for i in range(l):\n",
    "    print(\"x\",i,\":\",X[i])"
   ]
  },
  {
   "cell_type": "code",
   "execution_count": null,
   "id": "9fa66a55",
   "metadata": {},
   "outputs": [],
   "source": []
  }
 ],
 "metadata": {
  "kernelspec": {
   "display_name": "Python 3 (ipykernel)",
   "language": "python",
   "name": "python3"
  },
  "language_info": {
   "codemirror_mode": {
    "name": "ipython",
    "version": 3
   },
   "file_extension": ".py",
   "mimetype": "text/x-python",
   "name": "python",
   "nbconvert_exporter": "python",
   "pygments_lexer": "ipython3",
   "version": "3.9.7"
  }
 },
 "nbformat": 4,
 "nbformat_minor": 5
}
